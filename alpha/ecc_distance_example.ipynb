{
 "cells": [
  {
   "cell_type": "code",
   "execution_count": 1,
   "id": "b858e0b8-53c6-4997-abaf-b40ac4c6c265",
   "metadata": {},
   "outputs": [],
   "source": [
    "import numpy as np\n",
    "import pandas as pd\n",
    "import matplotlib.pyplot as plt\n",
    "import gudhi as gd\n",
    "import sys\n",
    "#sys.path.append('../topotests/')\n",
    "import bifiltrations_alpha as alpha\n",
    "#from distributions import MultivariateDistribution, GaussianMixture, AbsoluteDistribution\n",
    "import scipy.stats as st"
   ]
  },
  {
   "cell_type": "code",
   "execution_count": 2,
   "id": "a4103083-041e-462a-96a3-027fe9838921",
   "metadata": {},
   "outputs": [],
   "source": [
    "# claulate the distance between two ECC\n",
    "# in fact this is integrated squared difference between two picewise constant functions\n",
    "def get_ecc_distance(ecc0, ecc1):\n",
    "    # ecc0 and ecc1 are the picewise constant functions - each element is a (x, y) tuple\n",
    "    # and represents a jump of the function. segment is created using the x position of the next jump\n",
    "    ecc0 = np.array(ecc0)\n",
    "    ecc1 = np.array(ecc1)\n",
    "    # find the largest x value - this will determine the range of integration\n",
    "    xlim = max(np.max(ecc0[:, 0]), np.max(ecc1[:, 0]))\n",
    "    # add one segment to each function so that ecc0 and ecc1 have the same support\n",
    "    ecc0 = np.vstack([ecc0, [xlim, ecc0[-1, 1]]])\n",
    "    ecc1 = np.vstack([ecc1, [xlim, ecc1[-1, 1]]])\n",
    "    # ecc0 and ecc1 have jumps in different locations\n",
    "    # the difference ecc0-ecc1 is approximaed by step picewise constant function, hence we\n",
    "    # need to find all possible jumps of ecc0 and ecc1\n",
    "    bin_domain = np.unique(np.sort(np.concatenate([ecc0[:, 0], ecc1[:, 0]])))\n",
    "    ecc_diff = np.zeros_like(bin_domain)\n",
    "    # now we need to have y-value of ecc0 and ecc1 in the combined jumps locations\n",
    "    for id_b, b in enumerate(bin_domain):\n",
    "        id0 = np.argmax(ecc0[:, 0] > b)-1 # FIXME: there must be a faster way\n",
    "        id1 = np.argmax(ecc1[:, 0] > b)-1\n",
    "        ecc_diff[id_b] = ecc0[id0, 1] - ecc1[id1, 1] # differnece of ecc0 and ecc1\n",
    "    ecc_dist = 0\n",
    "    id_val = 0\n",
    "    for bl, br in zip(bin_domain[:-1], bin_domain[1:]):\n",
    "        # changed L1 to L2\n",
    "        # ecc_dist += ecc_diff[id_val]**2*(br-bl) # L2\n",
    "        ecc_dist += abs(ecc_diff[id_val]*(br-bl)) # L1\n",
    "        id_val += 1\n",
    "    return ecc_dist"
   ]
  },
  {
   "cell_type": "code",
   "execution_count": 3,
   "id": "abda936c-bbe0-48ca-bbe4-d4e23340fb49",
   "metadata": {},
   "outputs": [],
   "source": [
    "# test distance function on some artificial data\n",
    "def plot_stepfunction(dat, color='black'):\n",
    "    # ugly hack\n",
    "    x = [d[0] for d in dat]\n",
    "    y = [d[1] for d in dat]\n",
    "    id_val = 0\n",
    "    for bl, br in zip(x[:-1], x[1:]):\n",
    "        yval = y[id_val]\n",
    "        id_val+=1\n",
    "        plt.plot([bl, br], [yval, yval], color=color)\n",
    "\n",
    "# lists below represtent two step-functions\n",
    "# last point shows were the data ends\n",
    "f1 = [[0, 0], [1.5, 2], [3.5, 1], [4.5, 3], [5.5, 0], [6, 0]]\n",
    "f2 = [[0, 0], [1, 1], [2, 2], [4, 4], [6, 4]]"
   ]
  },
  {
   "cell_type": "code",
   "execution_count": 4,
   "id": "08a18b3f-867c-4951-aa70-bffc8421e91f",
   "metadata": {},
   "outputs": [
    {
     "data": {
      "image/png": "[encoded data removed]",
      "text/plain": [
       "<Figure size 432x288 with 1 Axes>"
      ]
     },
     "metadata": {
      "needs_background": "light"
     },
     "output_type": "display_data"
    }
   ],
   "source": [
    "plot_stepfunction(f1)\n",
    "plot_stepfunction(f2, color='red')\n",
    "plt.show()"
   ]
  },
  {
   "cell_type": "code",
   "execution_count": 5,
   "id": "51d89984",
   "metadata": {},
   "outputs": [
    {
     "data": {
      "text/plain": [
       "<AxesSubplot:xlabel='Filtration', ylabel='Euler Characteristic'>"
      ]
     },
     "execution_count": 5,
     "metadata": {},
     "output_type": "execute_result"
    },
    {
     "data": {
      "image/png": "[encoded data removed]",
      "text/plain": [
       "<Figure size 432x288 with 1 Axes>"
      ]
     },
     "metadata": {
      "needs_background": "light"
     },
     "output_type": "display_data"
    }
   ],
   "source": [
    "# we can use the plotting in bifiltrations_alpha\n",
    "alpha.plot_ECC(f1, with_lines=True)\n",
    "alpha.plot_ECC(f2, with_lines=True)"
   ]
  },
  {
   "cell_type": "code",
   "execution_count": 6,
   "id": "b0b1e09e-5dba-49a6-8084-1fe33dac5787",
   "metadata": {},
   "outputs": [
    {
     "data": {
      "text/plain": [
       "6.0"
      ]
     },
     "execution_count": 6,
     "metadata": {},
     "output_type": "execute_result"
    }
   ],
   "source": [
    "get_ecc_distance(f1, f2)"
   ]
  },
  {
   "cell_type": "code",
   "execution_count": 7,
   "id": "c7e483b2",
   "metadata": {},
   "outputs": [
    {
     "data": {
      "text/plain": [
       "6.0"
      ]
     },
     "execution_count": 7,
     "metadata": {},
     "output_type": "execute_result"
    }
   ],
   "source": [
    "alpha.get_ecc_distance_from_contributions(f1, f2)"
   ]
  },
  {
   "cell_type": "code",
   "execution_count": 8,
   "id": "9f05fd97-cc3b-4a0e-898a-4c7622671cee",
   "metadata": {},
   "outputs": [
    {
     "data": {
      "text/plain": [
       "6.0"
      ]
     },
     "execution_count": 8,
     "metadata": {},
     "output_type": "execute_result"
    }
   ],
   "source": [
    "# calculate distance manually x*y\n",
    "# 0.5*1 + 0.5*1 + 0.5*1 + 0.5*(4-1)**2 + 1*(4-3)**2 + 0.5*(4-0)**2 # L2\n",
    "0.5*1 + 0.5*1 + 0.5*1 + 0.5*(4-1) + 1*(4-3) + 0.5*(4-0) # L1"
   ]
  },
  {
   "cell_type": "code",
   "execution_count": 9,
   "id": "ca5752b7-9814-4020-824d-d388e748a61f",
   "metadata": {},
   "outputs": [],
   "source": [
    "# do calculations for eccs"
   ]
  },
  {
   "cell_type": "code",
   "execution_count": 10,
   "id": "f0c4d209-a510-4dd2-9314-0b6a3e541104",
   "metadata": {},
   "outputs": [],
   "source": [
    "points0 = pd.read_csv('test.csv')\n",
    "# get some simple artificial data\n",
    "points1 = points0*2"
   ]
  },
  {
   "cell_type": "code",
   "execution_count": 11,
   "id": "5043cdd4-1cc9-4c53-920b-c630f4c66bef",
   "metadata": {},
   "outputs": [],
   "source": [
    "ecc_contributions0, num_simplices = alpha.compute_ECC_contributions_alpha(points0.values)\n",
    "ecc0 = alpha.ECC_from_contributions(ecc_contributions0)\n",
    "ecc_contributions1, num_simplices = alpha.compute_ECC_contributions_alpha(points1.values)\n",
    "ecc1 = alpha.ECC_from_contributions(ecc_contributions1)"
   ]
  },
  {
   "cell_type": "code",
   "execution_count": 12,
   "id": "e5a1225a-c6aa-4172-817c-a962914008e9",
   "metadata": {},
   "outputs": [
    {
     "name": "stdout",
     "output_type": "stream",
     "text": [
      "47 ms ± 7.85 ms per loop (mean ± std. dev. of 7 runs, 10 loops each)\n"
     ]
    }
   ],
   "source": [
    "%%timeit\n",
    "get_ecc_distance(ecc0, ecc1)"
   ]
  },
  {
   "cell_type": "code",
   "execution_count": 13,
   "id": "8a6a0248",
   "metadata": {},
   "outputs": [
    {
     "name": "stdout",
     "output_type": "stream",
     "text": [
      "4.4 ms ± 382 µs per loop (mean ± std. dev. of 7 runs, 100 loops each)\n"
     ]
    }
   ],
   "source": [
    "%%timeit\n",
    "alpha.get_ecc_distance_from_contributions(ecc_contributions0, ecc_contributions1)"
   ]
  },
  {
   "cell_type": "code",
   "execution_count": 14,
   "id": "f896697b",
   "metadata": {},
   "outputs": [
    {
     "name": "stdout",
     "output_type": "stream",
     "text": [
      "True\n"
     ]
    }
   ],
   "source": [
    "# consistency check\n",
    "print(get_ecc_distance(ecc0, ecc1) == alpha.get_ecc_distance_from_contributions(ecc_contributions0, \n",
    "                                                                                ecc_contributions1))"
   ]
  },
  {
   "cell_type": "code",
   "execution_count": 15,
   "id": "49306052-2093-4d29-ba6f-ac8329e22033",
   "metadata": {},
   "outputs": [
    {
     "data": {
      "image/png": "[encoded data removed]",
      "text/plain": [
       "<Figure size 432x288 with 1 Axes>"
      ]
     },
     "metadata": {
      "needs_background": "light"
     },
     "output_type": "display_data"
    }
   ],
   "source": [
    "plot_stepfunction(ecc0)\n",
    "plot_stepfunction(ecc1, color='red')"
   ]
  },
  {
   "cell_type": "code",
   "execution_count": 16,
   "id": "0a248cbd",
   "metadata": {},
   "outputs": [
    {
     "data": {
      "text/plain": [
       "<AxesSubplot:xlabel='Filtration', ylabel='Euler Characteristic'>"
      ]
     },
     "execution_count": 16,
     "metadata": {},
     "output_type": "execute_result"
    },
    {
     "data": {
      "image/png": "[encoded data removed]",
      "text/plain": [
       "<Figure size 432x288 with 1 Axes>"
      ]
     },
     "metadata": {
      "needs_background": "light"
     },
     "output_type": "display_data"
    }
   ],
   "source": [
    "# we can use the plotting in bifiltrations_alpha\n",
    "alpha.plot_ECC(ecc0)\n",
    "alpha.plot_ECC(ecc1)"
   ]
  },
  {
   "cell_type": "markdown",
   "id": "e0f14ba8",
   "metadata": {},
   "source": [
    "## Binning"
   ]
  },
  {
   "cell_type": "code",
   "execution_count": 17,
   "id": "874ac172",
   "metadata": {},
   "outputs": [],
   "source": [
    "grid = np.linspace(0, 0.04, num=41)\n",
    "ecc_contributions_grid0 = alpha.project_contributions_to_grid(ecc_contributions0,\n",
    "                                                              grid)\n",
    "\n",
    "ecc_contributions_grid1 = alpha.project_contributions_to_grid(ecc_contributions1,\n",
    "                                                              grid)"
   ]
  },
  {
   "cell_type": "code",
   "execution_count": 18,
   "id": "91b0bd85",
   "metadata": {},
   "outputs": [
    {
     "data": {
      "text/plain": [
       "<AxesSubplot:xlabel='Filtration', ylabel='Euler Characteristic'>"
      ]
     },
     "execution_count": 18,
     "metadata": {},
     "output_type": "execute_result"
    },
    {
     "data": {
      "image/png": "[encoded data removed]",
      "text/plain": [
       "<Figure size 864x288 with 2 Axes>"
      ]
     },
     "metadata": {
      "needs_background": "light"
     },
     "output_type": "display_data"
    }
   ],
   "source": [
    "fig, ax = plt.subplots(1, 2, figsize=(12, 4))\n",
    "alpha.plot_ECC(ecc0, this_ax=ax[0])\n",
    "alpha.plot_ECC(ecc1, this_ax=ax[0])\n",
    "\n",
    "alpha.plot_ECC(alpha.ECC_from_contributions(ecc_contributions_grid0), \n",
    "               this_ax=ax[1])\n",
    "alpha.plot_ECC(alpha.ECC_from_contributions(ecc_contributions_grid1), \n",
    "               this_ax=ax[1])"
   ]
  },
  {
   "cell_type": "code",
   "execution_count": 19,
   "id": "c42ed9ee",
   "metadata": {},
   "outputs": [],
   "source": [
    "# now computing distances is way faster "
   ]
  },
  {
   "cell_type": "code",
   "execution_count": 20,
   "id": "355225cd",
   "metadata": {},
   "outputs": [
    {
     "name": "stdout",
     "output_type": "stream",
     "text": [
      "199 µs ± 14.4 µs per loop (mean ± std. dev. of 7 runs, 10000 loops each)\n"
     ]
    }
   ],
   "source": [
    "%%timeit\n",
    "alpha.get_ecc_distance_from_contributions(ecc_contributions_grid0, ecc_contributions_grid1)"
   ]
  },
  {
   "cell_type": "code",
   "execution_count": 21,
   "id": "e98ebb3a",
   "metadata": {},
   "outputs": [
    {
     "name": "stdout",
     "output_type": "stream",
     "text": [
      "exact  diff 0.475\n",
      "approx diff 0.506\n"
     ]
    }
   ],
   "source": [
    "exact_diff = alpha.get_ecc_distance_from_contributions(ecc_contributions0, ecc_contributions1)\n",
    "approx_diff = alpha.get_ecc_distance_from_contributions(ecc_contributions_grid0, ecc_contributions_grid1)\n",
    "\n",
    "print('exact  diff {:.3f}'.format(exact_diff))\n",
    "print('approx diff {:.3f}'.format(approx_diff))"
   ]
  },
  {
   "cell_type": "code",
   "execution_count": null,
   "id": "e167b3df",
   "metadata": {},
   "outputs": [],
   "source": []
  }
 ],
 "metadata": {
  "kernelspec": {
   "display_name": "Python 3 (ipykernel)",
   "language": "python",
   "name": "python3"
  },
  "language_info": {
   "codemirror_mode": {
    "name": "ipython",
    "version": 3
   },
   "file_extension": ".py",
   "mimetype": "text/x-python",
   "name": "python",
   "nbconvert_exporter": "python",
   "pygments_lexer": "ipython3",
   "version": "3.8.10"
  }
 },
 "nbformat": 4,
 "nbformat_minor": 5
}
