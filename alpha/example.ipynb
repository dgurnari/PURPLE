{
 "cells": [
  {
   "cell_type": "code",
   "execution_count": 1,
   "id": "a67ed798",
   "metadata": {},
   "outputs": [],
   "source": [
    "import numpy as np\n",
    "import pandas as pd\n",
    "import matplotlib.pyplot as plt\n",
    "import gudhi as gd"
   ]
  },
  {
   "cell_type": "code",
   "execution_count": 2,
   "id": "4a9eb0ac",
   "metadata": {},
   "outputs": [],
   "source": [
    "import bifiltrations_alpha as alpha"
   ]
  },
  {
   "cell_type": "markdown",
   "id": "50e6f8fd",
   "metadata": {},
   "source": [
    "## Load an example pointcloud"
   ]
  },
  {
   "cell_type": "code",
   "execution_count": 3,
   "id": "3e046884",
   "metadata": {},
   "outputs": [
    {
     "data": {
      "text/html": [
       "<div>\n",
       "<style scoped>\n",
       "    .dataframe tbody tr th:only-of-type {\n",
       "        vertical-align: middle;\n",
       "    }\n",
       "\n",
       "    .dataframe tbody tr th {\n",
       "        vertical-align: top;\n",
       "    }\n",
       "\n",
       "    .dataframe thead th {\n",
       "        text-align: right;\n",
       "    }\n",
       "</style>\n",
       "<table border=\"1\" class=\"dataframe\">\n",
       "  <thead>\n",
       "    <tr style=\"text-align: right;\">\n",
       "      <th></th>\n",
       "      <th>x</th>\n",
       "      <th>y</th>\n",
       "    </tr>\n",
       "  </thead>\n",
       "  <tbody>\n",
       "    <tr>\n",
       "      <th>0</th>\n",
       "      <td>0.023961</td>\n",
       "      <td>0.255004</td>\n",
       "    </tr>\n",
       "    <tr>\n",
       "      <th>1</th>\n",
       "      <td>0.006801</td>\n",
       "      <td>0.521060</td>\n",
       "    </tr>\n",
       "    <tr>\n",
       "      <th>2</th>\n",
       "      <td>0.008416</td>\n",
       "      <td>0.572379</td>\n",
       "    </tr>\n",
       "    <tr>\n",
       "      <th>3</th>\n",
       "      <td>0.011830</td>\n",
       "      <td>1.000807</td>\n",
       "    </tr>\n",
       "    <tr>\n",
       "      <th>4</th>\n",
       "      <td>0.013884</td>\n",
       "      <td>1.480515</td>\n",
       "    </tr>\n",
       "    <tr>\n",
       "      <th>...</th>\n",
       "      <td>...</td>\n",
       "      <td>...</td>\n",
       "    </tr>\n",
       "    <tr>\n",
       "      <th>195</th>\n",
       "      <td>0.340302</td>\n",
       "      <td>0.988873</td>\n",
       "    </tr>\n",
       "    <tr>\n",
       "      <th>196</th>\n",
       "      <td>0.333690</td>\n",
       "      <td>0.413129</td>\n",
       "    </tr>\n",
       "    <tr>\n",
       "      <th>197</th>\n",
       "      <td>0.332858</td>\n",
       "      <td>0.585402</td>\n",
       "    </tr>\n",
       "    <tr>\n",
       "      <th>198</th>\n",
       "      <td>0.342905</td>\n",
       "      <td>1.350858</td>\n",
       "    </tr>\n",
       "    <tr>\n",
       "      <th>199</th>\n",
       "      <td>0.337540</td>\n",
       "      <td>1.465555</td>\n",
       "    </tr>\n",
       "  </tbody>\n",
       "</table>\n",
       "<p>200 rows × 2 columns</p>\n",
       "</div>"
      ],
      "text/plain": [
       "            x         y\n",
       "0    0.023961  0.255004\n",
       "1    0.006801  0.521060\n",
       "2    0.008416  0.572379\n",
       "3    0.011830  1.000807\n",
       "4    0.013884  1.480515\n",
       "..        ...       ...\n",
       "195  0.340302  0.988873\n",
       "196  0.333690  0.413129\n",
       "197  0.332858  0.585402\n",
       "198  0.342905  1.350858\n",
       "199  0.337540  1.465555\n",
       "\n",
       "[200 rows x 2 columns]"
      ]
     },
     "execution_count": 3,
     "metadata": {},
     "output_type": "execute_result"
    }
   ],
   "source": [
    "points = pd.read_csv('test.csv')\n",
    "points"
   ]
  },
  {
   "cell_type": "code",
   "execution_count": 4,
   "id": "d47fdbae",
   "metadata": {},
   "outputs": [
    {
     "data": {
      "text/plain": [
       "<matplotlib.collections.PathCollection at 0x129a47940>"
      ]
     },
     "execution_count": 4,
     "metadata": {},
     "output_type": "execute_result"
    },
    {
     "data": {
      "image/png": "[encoded data removed]",
      "text/plain": [
       "<Figure size 432x288 with 1 Axes>"
      ]
     },
     "metadata": {
      "needs_background": "light"
     },
     "output_type": "display_data"
    }
   ],
   "source": [
    "plt.scatter(points.x, points.y)"
   ]
  },
  {
   "cell_type": "markdown",
   "id": "c343985d",
   "metadata": {},
   "source": [
    "## Alpha ECC"
   ]
  },
  {
   "cell_type": "code",
   "execution_count": 5,
   "id": "4b33b4d3",
   "metadata": {},
   "outputs": [
    {
     "name": "stdout",
     "output_type": "stream",
     "text": [
      "1163 simplices found\n"
     ]
    }
   ],
   "source": [
    "# compute the contributions to the ECC\n",
    "ecc_contributions, num_simplices = alpha.compute_ECC_contributions_alpha(points.values)\n",
    "print('{} simplices found'.format(num_simplices))"
   ]
  },
  {
   "cell_type": "code",
   "execution_count": 6,
   "id": "a8e15120",
   "metadata": {},
   "outputs": [
    {
     "data": {
      "text/plain": [
       "[(0.0, 200),\n",
       " (7.041682812500026e-06, -1),\n",
       " (7.156603124999771e-06, -1),\n",
       " (8.63939824999987e-06, -1),\n",
       " (1.493543538223128e-05, -1)]"
      ]
     },
     "execution_count": 6,
     "metadata": {},
     "output_type": "execute_result"
    }
   ],
   "source": [
    "# ecc_contributions is a list of tuples (filtration, contribution)\n",
    "ecc_contributions[:5]"
   ]
  },
  {
   "cell_type": "code",
   "execution_count": 7,
   "id": "0a66a483",
   "metadata": {},
   "outputs": [
    {
     "data": {
      "text/plain": [
       "[(0.007119390929117472, -1),\n",
       " (0.007127660604852669, 1),\n",
       " (0.007449389441383444, 1),\n",
       " (0.007534635085341463, 1),\n",
       " (0.008767324317016385, 1)]"
      ]
     },
     "execution_count": 7,
     "metadata": {},
     "output_type": "execute_result"
    }
   ],
   "source": [
    "ecc_contributions[-5:]"
   ]
  },
  {
   "cell_type": "code",
   "execution_count": 8,
   "id": "3c0af37e",
   "metadata": {},
   "outputs": [],
   "source": [
    "# we can obtain the ECC by progressively summing up all the contributions\n",
    "ecc = alpha.ECC_from_contributions(ecc_contributions)"
   ]
  },
  {
   "cell_type": "code",
   "execution_count": 9,
   "id": "db88f961",
   "metadata": {},
   "outputs": [
    {
     "data": {
      "text/plain": [
       "[[0.0, 200],\n",
       " [7.041682812500026e-06, 199],\n",
       " [7.156603124999771e-06, 198],\n",
       " [8.63939824999987e-06, 197],\n",
       " [1.493543538223128e-05, 196]]"
      ]
     },
     "execution_count": 9,
     "metadata": {},
     "output_type": "execute_result"
    }
   ],
   "source": [
    "# now we have a list of tuples (filtration, euler characteristic)\n",
    "ecc[:5]"
   ]
  },
  {
   "cell_type": "code",
   "execution_count": 10,
   "id": "0b2b4505",
   "metadata": {},
   "outputs": [
    {
     "data": {
      "text/plain": [
       "[[0.007119390929117472, -3],\n",
       " [0.007127660604852669, -2],\n",
       " [0.007449389441383444, -1],\n",
       " [0.007534635085341463, 0],\n",
       " [0.008767324317016385, 1]]"
      ]
     },
     "execution_count": 10,
     "metadata": {},
     "output_type": "execute_result"
    }
   ],
   "source": [
    "# we are building up the whole alpha complex, so at the largest filtration\n",
    "# value the euler characteristic is 1 (one big connected component)\n",
    "# now we have a list of tuples (filtration, euler characteristic)\n",
    "ecc[-5:]"
   ]
  },
  {
   "cell_type": "code",
   "execution_count": 11,
   "id": "57470ab1",
   "metadata": {},
   "outputs": [
    {
     "data": {
      "text/plain": [
       "<AxesSubplot:xlabel='Filtration', ylabel='Euler Characteristic'>"
      ]
     },
     "execution_count": 11,
     "metadata": {},
     "output_type": "execute_result"
    },
    {
     "data": {
      "image/png": "[encoded data removed]",
      "text/plain": [
       "<Figure size 432x288 with 1 Axes>"
      ]
     },
     "metadata": {
      "needs_background": "light"
     },
     "output_type": "display_data"
    }
   ],
   "source": [
    "# we can plot the ECC\n",
    "fig, ax = plt.subplots(1)\n",
    "alpha.plot_ECC(ecc, this_ax=ax, with_lines=False)"
   ]
  },
  {
   "cell_type": "markdown",
   "id": "5196832a",
   "metadata": {},
   "source": [
    "## Alpha ECP"
   ]
  },
  {
   "cell_type": "code",
   "execution_count": 12,
   "id": "e52ed980",
   "metadata": {},
   "outputs": [],
   "source": [
    "# lets add a second filtration\n",
    "from scipy.spatial import distance_matrix\n",
    "\n",
    "def kNN_filter(points, kNN):\n",
    "    D = distance_matrix(points, points)\n",
    "    sortedD = np.sort(D)\n",
    "    codensity = np.sum(sortedD[:, :kNN+1], axis=1)\n",
    "    return codensity"
   ]
  },
  {
   "cell_type": "code",
   "execution_count": 13,
   "id": "9e53273c",
   "metadata": {},
   "outputs": [
    {
     "data": {
      "text/plain": [
       "array([1.75506256, 0.94011483, 0.97267567, 1.4350677 , 1.23328143])"
      ]
     },
     "execution_count": 13,
     "metadata": {},
     "output_type": "execute_result"
    }
   ],
   "source": [
    "# we define a codensity for each point as the sum \n",
    "# of the distances from its 10 nearest neighbor\n",
    "vertex_codensity = kNN_filter(points.values, 10)\n",
    "vertex_codensity[:5]"
   ]
  },
  {
   "cell_type": "code",
   "execution_count": 14,
   "id": "edd7ff8e",
   "metadata": {},
   "outputs": [
    {
     "name": "stdout",
     "output_type": "stream",
     "text": [
      "1163 simplices found\n"
     ]
    }
   ],
   "source": [
    "# we compute a bidemensional ECP\n",
    "# the codensity of a simplex is the maximum codensity over its vertices\n",
    "ecp_contributions, num_simplex = alpha.compute_ECP_contributions_alpha(points.values, vertex_codensity)\n",
    "print('{} simplices found'.format(num_simplices))"
   ]
  },
  {
   "cell_type": "code",
   "execution_count": 15,
   "id": "ae6c4951",
   "metadata": {},
   "outputs": [
    {
     "data": {
      "text/plain": [
       "[((0.0, 0.4650633220756959), 1),\n",
       " ((0.0, 0.49349275341903864), 1),\n",
       " ((0.0, 0.5288329995539428), 1),\n",
       " ((0.0, 0.5371755181444691), 1),\n",
       " ((0.0, 0.537944883537042), 1)]"
      ]
     },
     "execution_count": 15,
     "metadata": {},
     "output_type": "execute_result"
    }
   ],
   "source": [
    "# ecp_contributions is a list of tuples ((f1, f2), contribution)\n",
    "ecp_contributions[:5]"
   ]
  },
  {
   "cell_type": "code",
   "execution_count": 16,
   "id": "0d0306cc",
   "metadata": {},
   "outputs": [
    {
     "data": {
      "text/plain": [
       "[((153.0552140428697, 1.2905669114270353), 1),\n",
       " ((775.3113076175556, 1.2613626146768304), -1),\n",
       " ((775.3113076175556, 1.4350677007008272), 1),\n",
       " ((23681.64281604215, 1.0025472088408711), -1),\n",
       " ((23681.64281604215, 1.2613626146768304), 1)]"
      ]
     },
     "execution_count": 16,
     "metadata": {},
     "output_type": "execute_result"
    }
   ],
   "source": [
    "# note that we have non-zero contributions at points\n",
    "# very far from the origin\n",
    "ecp_contributions[-5:]"
   ]
  },
  {
   "cell_type": "code",
   "execution_count": 17,
   "id": "b9b78860",
   "metadata": {},
   "outputs": [
    {
     "data": {
      "text/plain": [
       "<AxesSubplot:xlabel='Filtration 1', ylabel='Filtration 2'>"
      ]
     },
     "execution_count": 17,
     "metadata": {},
     "output_type": "execute_result"
    },
    {
     "data": {
      "image/png": "[encoded data removed]",
      "text/plain": [
       "<Figure size 432x288 with 2 Axes>"
      ]
     },
     "metadata": {
      "needs_background": "light"
     },
     "output_type": "display_data"
    }
   ],
   "source": [
    "# we can plot the ECP\n",
    "# we need to specify a plotting range\n",
    "# WARNING: can take a bit with large ecp_contributions\n",
    "fig, ax = plt.subplots(1)\n",
    "alpha.plot_ECP(ecp_contributions, \n",
    "               ranges=(0, 0.01, 0, 1.3), # (f1_min, f1_max, f2_min, f2_max)\n",
    "               this_ax=ax, \n",
    "               colorbar=True)"
   ]
  },
  {
   "cell_type": "markdown",
   "id": "ef6fae84",
   "metadata": {},
   "source": [
    "## Vectorizing"
   ]
  },
  {
   "cell_type": "code",
   "execution_count": 30,
   "id": "f54381ad",
   "metadata": {},
   "outputs": [
    {
     "name": "stdout",
     "output_type": "stream",
     "text": [
      "(50,)\n"
     ]
    },
    {
     "data": {
      "text/plain": [
       "<matplotlib.collections.PathCollection at 0x12c4957c0>"
      ]
     },
     "execution_count": 30,
     "metadata": {},
     "output_type": "execute_result"
    },
    {
     "data": {
      "image/png": "[encoded data removed]",
      "text/plain": [
       "<Figure size 432x288 with 1 Axes>"
      ]
     },
     "metadata": {
      "needs_background": "light"
     },
     "output_type": "display_data"
    }
   ],
   "source": [
    "# if we want fixed lenght np.arrays to plug into our favourite ML pipeline\n",
    "# we can subsample the ECCs, ECPs\n",
    "\n",
    "vect_ecc = alpha.subsample_ECC(ecc_contributions, \n",
    "                               f_range=(0, 0.01), # (f_min, f_max)\n",
    "                               size=50)\n",
    "print(vect_ecc.shape)"
   ]
  },
  {
   "cell_type": "code",
   "execution_count": 32,
   "id": "f290e02c",
   "metadata": {},
   "outputs": [
    {
     "data": {
      "text/plain": [
       "<matplotlib.collections.PathCollection at 0x12c637be0>"
      ]
     },
     "execution_count": 32,
     "metadata": {},
     "output_type": "execute_result"
    },
    {
     "data": {
      "image/png": "[encoded data removed]",
      "text/plain": [
       "<Figure size 864x288 with 2 Axes>"
      ]
     },
     "metadata": {
      "needs_background": "light"
     },
     "output_type": "display_data"
    }
   ],
   "source": [
    "# we can plot the ECC and the sampled version\n",
    "fig, ax = plt.subplots(1, 2, figsize=(12, 4))\n",
    "alpha.plot_ECC(ecc, this_ax=ax[0], with_lines=False)\n",
    "\n",
    "f_range=(0, 0.01)\n",
    "ax[1].scatter(np.linspace(f_range[0], f_range[1], num=vect_ecc.shape[0]),\n",
    "           vect_ecc)"
   ]
  },
  {
   "cell_type": "code",
   "execution_count": 33,
   "id": "ce42f6ce",
   "metadata": {},
   "outputs": [
    {
     "name": "stdout",
     "output_type": "stream",
     "text": [
      "(20, 30)\n"
     ]
    }
   ],
   "source": [
    "vect_ecp = alpha.subsample_ECP(ecp_contributions, \n",
    "                               f1_range=(0, 0.01), # (f1_min, f1_max)\n",
    "                               f2_range=(0, 1.3),  # (f2_min, f2_max)\n",
    "                               size=(20, 30))\n",
    "print(vect_ecp.shape)"
   ]
  },
  {
   "cell_type": "code",
   "execution_count": 35,
   "id": "f082d35e",
   "metadata": {},
   "outputs": [
    {
     "data": {
      "text/plain": [
       "<matplotlib.collections.QuadMesh at 0x12c7d8eb0>"
      ]
     },
     "execution_count": 35,
     "metadata": {},
     "output_type": "execute_result"
    },
    {
     "data": {
      "image/png": "[encoded data removed]",
      "text/plain": [
       "<Figure size 864x288 with 2 Axes>"
      ]
     },
     "metadata": {
      "needs_background": "light"
     },
     "output_type": "display_data"
    }
   ],
   "source": [
    "fig, ax = plt.subplots(1, 2, figsize=(12, 4))\n",
    "\n",
    "alpha.plot_ECP(ecp_contributions, \n",
    "               ranges=(0, 0.01, 0, 1.3), # (f1_min, f1_max, f2_min, f2_max)\n",
    "               this_ax=ax[0], \n",
    "               colorbar=False)\n",
    "\n",
    "f1_range=(0, 0.01) # (f1_min, f1_max)\n",
    "f2_range=(0, 1.3)  # (f2_min, f2_max)\n",
    "\n",
    "ax[1].pcolormesh(np.linspace(f1_range[0], f1_range[1], num=vect_ecp.shape[0]),\n",
    "               np.linspace(f2_range[0], f2_range[1], num=vect_ecp.shape[1]),\n",
    "               vect_ecp.T)"
   ]
  },
  {
   "cell_type": "code",
   "execution_count": null,
   "id": "e766026b",
   "metadata": {},
   "outputs": [],
   "source": []
  }
 ],
 "metadata": {
  "kernelspec": {
   "display_name": "Python 3 (ipykernel)",
   "language": "python",
   "name": "python3"
  },
  "language_info": {
   "codemirror_mode": {
    "name": "ipython",
    "version": 3
   },
   "file_extension": ".py",
   "mimetype": "text/x-python",
   "name": "python",
   "nbconvert_exporter": "python",
   "pygments_lexer": "ipython3",
   "version": "3.8.10"
  }
 },
 "nbformat": 4,
 "nbformat_minor": 5
}
