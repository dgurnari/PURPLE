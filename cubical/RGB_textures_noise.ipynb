{
 "cells": [
  {
   "cell_type": "code",
   "execution_count": null,
   "id": "8d1d3720",
   "metadata": {},
   "outputs": [],
   "source": [
    "import numpy as np\n",
    "import matplotlib.pyplot as plt\n",
    "\n",
    "from PIL import Image, ImageOps\n",
    "\n",
    "from RGBcubical_utils import compute_RGB_contributions, difference_RGB_ECP, approximate_difference_RGB_ECP\n",
    "\n",
    "from tqdm.notebook import tqdm"
   ]
  },
  {
   "cell_type": "markdown",
   "id": "6a67bf95",
   "metadata": {},
   "source": [
    "# load images"
   ]
  },
  {
   "cell_type": "code",
   "execution_count": null,
   "id": "52377e90",
   "metadata": {},
   "outputs": [],
   "source": [
    "images = []\n",
    "\n",
    "images.append(Image.open(\"data/textures/easy/banded/banded_{}.png\".format(0)))\n",
    "\n",
    "images.append(Image.open(\"data/textures/easy/chessboard/chessboard_{}.png\".format(0)))\n",
    "    \n",
    "np_images = [np.int16(img) for img in images]\n",
    "\n",
    "fig, axs = plt.subplots(1, 2, figsize=(10, 5))\n",
    "\n",
    "for i in range(2):\n",
    "    axs[i].imshow(np_images[i])"
   ]
  },
  {
   "cell_type": "code",
   "execution_count": null,
   "id": "94cc421d",
   "metadata": {},
   "outputs": [],
   "source": [
    "def add_noise(input_matrix, noise_min = -25, noise_max = +25, p = 0.1, seed=42):\n",
    "    \n",
    "    np.random.seed(seed)\n",
    "\n",
    "    noise_matrix = np.random.randint(low=noise_min, high=noise_max, \n",
    "                                     size=input_matrix.shape, dtype=int)\n",
    "    \n",
    "    # we want to add noise only to p fraction of pixels\n",
    "    sampling_matrix = np.random.uniform(low=0.0, high=1.0, size=input_matrix.shape)\n",
    "    sampling_matrix[sampling_matrix <= p] = 1\n",
    "    sampling_matrix[sampling_matrix < 1] = 0\n",
    "    sampling_matrix = np.int16(sampling_matrix)\n",
    "    \n",
    "    return(np.clip( input_matrix + np.multiply(noise_matrix, sampling_matrix),\n",
    "                    a_min=0, a_max=255))"
   ]
  },
  {
   "cell_type": "code",
   "execution_count": null,
   "id": "1e5f1631",
   "metadata": {},
   "outputs": [],
   "source": [
    "NUM_SAMPLES = 10\n",
    "\n",
    "noisy_images = []\n",
    "\n",
    "for im in np_images:\n",
    "    noisy_images += [add_noise(im, seed=i, noise_min=-10, noise_max=10, p=1)\n",
    "                     for i in range(NUM_SAMPLES)]\n",
    "\n",
    "fig, axs = plt.subplots(4, 5,\n",
    "                       figsize=(15, 10))\n",
    "\n",
    "for i in range(5):\n",
    "    axs[0, i].imshow(noisy_images[i])\n",
    "    axs[1, i].imshow(noisy_images[i+5])\n",
    "    axs[2, i].imshow(noisy_images[i+10])\n",
    "    axs[3, i].imshow(noisy_images[i+15])"
   ]
  },
  {
   "cell_type": "markdown",
   "id": "887fe814",
   "metadata": {},
   "source": [
    "# Compute RGB Euler profiles"
   ]
  },
  {
   "cell_type": "code",
   "execution_count": null,
   "id": "298904df",
   "metadata": {},
   "outputs": [],
   "source": [
    "list_of_RGB_contributions = [compute_RGB_contributions(img) for img in tqdm(noisy_images)]"
   ]
  },
  {
   "cell_type": "markdown",
   "id": "133537dc",
   "metadata": {},
   "source": [
    "# Distance matrix"
   ]
  },
  {
   "cell_type": "code",
   "execution_count": null,
   "id": "f2bb33eb",
   "metadata": {},
   "outputs": [],
   "source": [
    "for c in list_of_RGB_contributions:\n",
    "    print(len(c))"
   ]
  },
  {
   "cell_type": "code",
   "execution_count": null,
   "id": "b769064e",
   "metadata": {},
   "outputs": [],
   "source": [
    "%%time\n",
    "distance_matrix_RBG = np.zeros((len(list_of_RGB_contributions), \n",
    "                                len(list_of_RGB_contributions)))\n",
    "\n",
    "for i in tqdm(range(len(list_of_RGB_contributions))):\n",
    "    for j in tqdm(range(i+1, len(list_of_RGB_contributions))):\n",
    "        distance_matrix_RBG[i,j] = difference_RGB_ECP(list_of_RGB_contributions[i], list_of_RGB_contributions[j],\n",
    "                                                 inf_value=256)\n",
    "        distance_matrix_RBG[j,i] = distance_matrix_RBG[i,j]"
   ]
  },
  {
   "cell_type": "code",
   "execution_count": null,
   "id": "4ab424c2",
   "metadata": {},
   "outputs": [],
   "source": [
    "%%time\n",
    "approx_distance_matrix = np.zeros((len(list_of_RGB_contributions), \n",
    "                                   len(list_of_RGB_contributions)))\n",
    "\n",
    "for i in tqdm(range(len(list_of_RGB_contributions))):\n",
    "    for j in tqdm(range(i+1, len(list_of_RGB_contributions))):\n",
    "        approx_distance_matrix[i,j] = approximate_difference_RGB_ECP(list_of_RGB_contributions[i], \n",
    "                                                                     list_of_RGB_contributions[j],\n",
    "                                                                    inf_value=256)\n",
    "        approx_distance_matrix[j,i] = approx_distance_matrix[i,j]"
   ]
  },
  {
   "cell_type": "code",
   "execution_count": null,
   "id": "13f0b22c",
   "metadata": {},
   "outputs": [],
   "source": [
    "# assert(np.array_equal(approx_distance_matrix, distance_matrix))"
   ]
  },
  {
   "cell_type": "code",
   "execution_count": null,
   "id": "407b14d0",
   "metadata": {},
   "outputs": [],
   "source": [
    "distance_matrix_RBG = approx_distance_matrix\n",
    "\n",
    "im0 = plt.imshow(distance_matrix_RBG)\n",
    "plt.colorbar(im0)\n",
    "plt.title('RGB')\n",
    "plt.show()"
   ]
  },
  {
   "cell_type": "code",
   "execution_count": null,
   "id": "5acba9eb",
   "metadata": {},
   "outputs": [],
   "source": [
    "distance_matrix_RBG[1]"
   ]
  },
  {
   "cell_type": "code",
   "execution_count": null,
   "id": "4549317a",
   "metadata": {},
   "outputs": [],
   "source": []
  },
  {
   "cell_type": "code",
   "execution_count": null,
   "id": "67d198bb",
   "metadata": {},
   "outputs": [],
   "source": []
  },
  {
   "cell_type": "markdown",
   "id": "dbe0c943",
   "metadata": {},
   "source": [
    "# Compute Euler Characteristic"
   ]
  },
  {
   "cell_type": "code",
   "execution_count": null,
   "id": "9b05412f",
   "metadata": {},
   "outputs": [],
   "source": [
    "grayscale_images = [ImageOps.grayscale(img) for img in noisy_images]\n",
    "np_grayscale_images = [np.expand_dims(np.int16(img), axis=2) for img in grayscale_images]"
   ]
  },
  {
   "cell_type": "code",
   "execution_count": null,
   "id": "06347f51",
   "metadata": {},
   "outputs": [],
   "source": []
  },
  {
   "cell_type": "code",
   "execution_count": null,
   "id": "7f621cca",
   "metadata": {},
   "outputs": [],
   "source": [
    "from pyEulerCurves import plot_euler_curve, difference_ECC"
   ]
  },
  {
   "cell_type": "code",
   "execution_count": null,
   "id": "ca4dbf45",
   "metadata": {},
   "outputs": [],
   "source": [
    "# given the ordered list of local contributions\n",
    "# returns a list of tuples (filtration, euler characteristic)\n",
    "def euler_characteristic_list_from_all(local_contributions):\n",
    "\n",
    "    euler_characteristic = []\n",
    "    old_f, current_characteristic = local_contributions[0]\n",
    "\n",
    "    for filtration, contribution in local_contributions[1:]:\n",
    "        if filtration > old_f:\n",
    "            euler_characteristic.append([old_f, current_characteristic])\n",
    "            old_f = filtration\n",
    "\n",
    "        current_characteristic += contribution\n",
    "\n",
    "    # add last contribution\n",
    "    if len(local_contributions) > 1:\n",
    "        euler_characteristic.append([filtration, current_characteristic])\n",
    "\n",
    "    return euler_characteristic"
   ]
  },
  {
   "cell_type": "code",
   "execution_count": null,
   "id": "15fda799",
   "metadata": {},
   "outputs": [],
   "source": [
    "list_of_ECC_contributions = [ [ (c[0][0], c[1]) for c in compute_RGB_contributions(img)] \n",
    "                             for img in tqdm(np_grayscale_images)] "
   ]
  },
  {
   "cell_type": "code",
   "execution_count": null,
   "id": "2435c546",
   "metadata": {},
   "outputs": [],
   "source": [
    "list_of_ECC = [euler_characteristic_list_from_all(contrib) for contrib in list_of_ECC_contributions]"
   ]
  },
  {
   "cell_type": "code",
   "execution_count": null,
   "id": "50ec8163",
   "metadata": {},
   "outputs": [],
   "source": [
    "for c in list_of_ECC_contributions:\n",
    "    print(len(c))"
   ]
  },
  {
   "cell_type": "code",
   "execution_count": null,
   "id": "ab83ac43",
   "metadata": {},
   "outputs": [],
   "source": [
    "fig, axs = plt.subplots(4, 5,\n",
    "                       figsize=(15, 10))\n",
    "\n",
    "for i in range(5):\n",
    "    axs[0, i].plot_euler_curve(list_of_ECC[i],    axs[0, i], with_lines=True)\n",
    "    axs[1, i].plot_euler_curve(list_of_ECC[i+5],  axs[1, i], with_lines=True)\n",
    "    axs[2, i].plot_euler_curve(list_of_ECC[i+10], axs[2, i], with_lines=True)\n",
    "    axs[3, i].plot_euler_curve(list_of_ECC[i+15], axs[3, i], with_lines=True)\n",
    "\n",
    "for i in range(NUMBER_OF_SAMPLES):\n",
    "    plot_euler_curve(list_of_ECC[i], axs[i], with_lines=True)"
   ]
  },
  {
   "cell_type": "code",
   "execution_count": null,
   "id": "82ce4b91",
   "metadata": {},
   "outputs": [],
   "source": [
    "distance_matrix_GRAY = np.zeros((len(list_of_RGB_contributions), \n",
    "                                   len(list_of_RGB_contributions)))\n",
    "for i in tqdm(range(len(list_of_ECC))):\n",
    "    for j in range(i+1, len(list_of_ECC)):\n",
    "        distance_matrix_GRAY[i,j] = difference_ECC(list_of_ECC[i], list_of_ECC[j], max_f = 255)\n",
    "        distance_matrix_GRAY[j,i] = difference_ECC(list_of_ECC[j], list_of_ECC[i], max_f = 255)"
   ]
  },
  {
   "cell_type": "code",
   "execution_count": null,
   "id": "8c4fc166",
   "metadata": {},
   "outputs": [],
   "source": [
    "fig, axs = plt.subplots(1, 2, figsize=(6.4*2, 4.8))\n",
    "\n",
    "im0 = axs[0].imshow(distance_matrix_RBG)\n",
    "plt.colorbar(im0, ax=axs[0])\n",
    "axs[0].set_title('RGB')\n",
    "\n",
    "\n",
    "im1 = axs[1].imshow(distance_matrix_GRAY)\n",
    "plt.colorbar(im1, ax=axs[1], vmin=0\n",
    "axs[1].set_title('Grayscale')\n",
    "\n",
    "plt.show()"
   ]
  },
  {
   "cell_type": "code",
   "execution_count": null,
   "id": "dde3e9e4",
   "metadata": {},
   "outputs": [],
   "source": []
  },
  {
   "cell_type": "code",
   "execution_count": null,
   "id": "1a7cab07",
   "metadata": {},
   "outputs": [],
   "source": []
  }
 ],
 "metadata": {
  "kernelspec": {
   "display_name": "Python 3 (ipykernel)",
   "language": "python",
   "name": "python3"
  },
  "language_info": {
   "codemirror_mode": {
    "name": "ipython",
    "version": 3
   },
   "file_extension": ".py",
   "mimetype": "text/x-python",
   "name": "python",
   "nbconvert_exporter": "python",
   "pygments_lexer": "ipython3",
   "version": "3.8.10"
  }
 },
 "nbformat": 4,
 "nbformat_minor": 5
}
