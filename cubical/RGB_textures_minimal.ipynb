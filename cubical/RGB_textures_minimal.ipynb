{
 "cells": [
  {
   "cell_type": "code",
   "execution_count": 1,
   "id": "8d1d3720",
   "metadata": {},
   "outputs": [],
   "source": [
    "import numpy as np\n",
    "import matplotlib.pyplot as plt\n",
    "\n",
    "from PIL import Image, ImageOps\n",
    "\n",
    "from RGBcubical_utils import compute_RGB_contributions, difference_RGB_ECP, approximate_difference_RGB_ECP\n",
    "\n",
    "from tqdm.notebook import tqdm"
   ]
  },
  {
   "cell_type": "markdown",
   "id": "6a67bf95",
   "metadata": {},
   "source": [
    "# load images"
   ]
  },
  {
   "cell_type": "code",
   "execution_count": 2,
   "id": "52377e90",
   "metadata": {},
   "outputs": [
    {
     "data": {
      "image/png": "[encoded data removed]",
      "text/plain": [
       "<Figure size 1440x360 with 8 Axes>"
      ]
     },
     "metadata": {
      "needs_background": "light"
     },
     "output_type": "display_data"
    }
   ],
   "source": [
    "NUMBER_OF_SAMPLES = 4\n",
    "\n",
    "images = []\n",
    "\n",
    "for i in range(NUMBER_OF_SAMPLES):\n",
    "    images.append(Image.open(\"data/textures/easy/banded_{}.png\".format(i)))\n",
    "    \n",
    "grayscale_images = [ImageOps.grayscale(img) for img in images]\n",
    "    \n",
    "np_images = [np.int16(img) for img in images]\n",
    "np_grayscale_images = [np.expand_dims(np.int16(img), axis=2) for img in grayscale_images]\n",
    "\n",
    "fig, axs = plt.subplots(2, NUMBER_OF_SAMPLES,\n",
    "                       figsize=(20, 5))\n",
    "\n",
    "for i in range(NUMBER_OF_SAMPLES):\n",
    "    axs[0, i].imshow(images[i])\n",
    "    axs[1, i].imshow(np_grayscale_images[i])"
   ]
  },
  {
   "cell_type": "code",
   "execution_count": 3,
   "id": "036cc93c",
   "metadata": {},
   "outputs": [
    {
     "name": "stdout",
     "output_type": "stream",
     "text": [
      "(300, 300, 3)\n",
      "(300, 300, 1)\n"
     ]
    }
   ],
   "source": [
    "print(np_images[0].shape)\n",
    "print(np_grayscale_images[0].shape)"
   ]
  },
  {
   "cell_type": "markdown",
   "id": "887fe814",
   "metadata": {},
   "source": [
    "# Compute RGB Euler profiles"
   ]
  },
  {
   "cell_type": "code",
   "execution_count": 4,
   "id": "298904df",
   "metadata": {},
   "outputs": [
    {
     "data": {
      "application/vnd.jupyter.widget-view+json": {
       "model_id": "67a063d3ee70442bb29f003065ba5e26",
       "version_major": 2,
       "version_minor": 0
      },
      "text/plain": [
       "  0%|          | 0/4 [00:00<?, ?it/s]"
      ]
     },
     "metadata": {},
     "output_type": "display_data"
    }
   ],
   "source": [
    "list_of_RGB_contributions = [compute_RGB_contributions(img) for img in tqdm(np_images)]"
   ]
  },
  {
   "cell_type": "markdown",
   "id": "133537dc",
   "metadata": {},
   "source": [
    "# Distance matrix"
   ]
  },
  {
   "cell_type": "code",
   "execution_count": 5,
   "id": "f2bb33eb",
   "metadata": {},
   "outputs": [
    {
     "data": {
      "text/plain": [
       "[[((0, 0, 0), 5), ((255, 255, 255), -4)],\n",
       " [((0, 0, 0), 5), ((255, 0, 0), -4)],\n",
       " [((0, 0, 0), 5), ((0, 255, 0), -4)],\n",
       " [((0, 0, 0), 5), ((0, 0, 255), -4)]]"
      ]
     },
     "execution_count": 5,
     "metadata": {},
     "output_type": "execute_result"
    }
   ],
   "source": [
    "list_of_RGB_contributions"
   ]
  },
  {
   "cell_type": "code",
   "execution_count": 8,
   "id": "b769064e",
   "metadata": {},
   "outputs": [
    {
     "data": {
      "application/vnd.jupyter.widget-view+json": {
       "model_id": "ff3e2600cce84ffeb1b0c350c569770f",
       "version_major": 2,
       "version_minor": 0
      },
      "text/plain": [
       "  0%|          | 0/4 [00:00<?, ?it/s]"
      ]
     },
     "metadata": {},
     "output_type": "display_data"
    }
   ],
   "source": [
    "distance_matrix = np.zeros((NUMBER_OF_SAMPLES, NUMBER_OF_SAMPLES))\n",
    "\n",
    "for i in tqdm(range(len(list_of_RGB_contributions))):\n",
    "    for j in range(i+1, len(list_of_RGB_contributions)):\n",
    "        distance_matrix[i,j] = difference_RGB_ECP(list_of_RGB_contributions[i], list_of_RGB_contributions[j])\n",
    "        distance_matrix[j,i] = difference_RGB_ECP(list_of_RGB_contributions[j], list_of_RGB_contributions[i])"
   ]
  },
  {
   "cell_type": "code",
   "execution_count": 9,
   "id": "4ab424c2",
   "metadata": {},
   "outputs": [
    {
     "data": {
      "application/vnd.jupyter.widget-view+json": {
       "model_id": "b9206d7da89542eca1194f4b926b9b62",
       "version_major": 2,
       "version_minor": 0
      },
      "text/plain": [
       "  0%|          | 0/4 [00:00<?, ?it/s]"
      ]
     },
     "metadata": {},
     "output_type": "display_data"
    }
   ],
   "source": [
    "approx_distance_matrix = np.zeros((NUMBER_OF_SAMPLES, NUMBER_OF_SAMPLES))\n",
    "\n",
    "for i in tqdm(range(len(list_of_RGB_contributions))):\n",
    "    for j in range(i+1, len(list_of_RGB_contributions)):\n",
    "        approx_distance_matrix[i,j] = approximate_difference_RGB_ECP(list_of_RGB_contributions[i], \n",
    "                                                                     list_of_RGB_contributions[j])\n",
    "        approx_distance_matrix[j,i] = approximate_difference_RGB_ECP(list_of_RGB_contributions[j], \n",
    "                                                                     list_of_RGB_contributions[i])"
   ]
  },
  {
   "cell_type": "code",
   "execution_count": 14,
   "id": "13f0b22c",
   "metadata": {},
   "outputs": [],
   "source": [
    "assert(np.array_equal(approx_distance_matrix, distance_matrix))"
   ]
  },
  {
   "cell_type": "code",
   "execution_count": 19,
   "id": "542f95dd",
   "metadata": {},
   "outputs": [
    {
     "data": {
      "image/png": "[encoded data removed]",
      "text/plain": [
       "<Figure size 921.6x345.6 with 4 Axes>"
      ]
     },
     "metadata": {
      "needs_background": "light"
     },
     "output_type": "display_data"
    }
   ],
   "source": [
    "fig, axs = plt.subplots(1, 2, figsize=(6.4*2, 4.8))\n",
    "\n",
    "im0 = axs[0].imshow(distance_matrix)\n",
    "plt.colorbar(im0, ax=axs[0])\n",
    "axs[0].set_title('Exact')\n",
    "\n",
    "im1 = axs[1].imshow(approx_distance_matrix)\n",
    "plt.colorbar(im1, ax=axs[1])\n",
    "axs[1].set_title('Approx')\n",
    "\n",
    "plt.show()"
   ]
  },
  {
   "cell_type": "code",
   "execution_count": null,
   "id": "4549317a",
   "metadata": {},
   "outputs": [],
   "source": []
  },
  {
   "cell_type": "code",
   "execution_count": null,
   "id": "67d198bb",
   "metadata": {},
   "outputs": [],
   "source": []
  },
  {
   "cell_type": "markdown",
   "id": "dbe0c943",
   "metadata": {},
   "source": [
    "# Compute Euler Characteristic"
   ]
  },
  {
   "cell_type": "code",
   "execution_count": null,
   "id": "7f621cca",
   "metadata": {},
   "outputs": [],
   "source": [
    "from pyEulerCurves import plot_euler_curve, difference_ECC"
   ]
  },
  {
   "cell_type": "code",
   "execution_count": null,
   "id": "ca4dbf45",
   "metadata": {},
   "outputs": [],
   "source": [
    "# given the ordered list of local contributions\n",
    "# returns a list of tuples (filtration, euler characteristic)\n",
    "def euler_characteristic_list_from_all(local_contributions):\n",
    "\n",
    "    euler_characteristic = []\n",
    "    old_f, current_characteristic = local_contributions[0]\n",
    "\n",
    "    for filtration, contribution in local_contributions[1:]:\n",
    "        if filtration > old_f:\n",
    "            euler_characteristic.append([old_f, current_characteristic])\n",
    "            old_f = filtration\n",
    "\n",
    "        current_characteristic += contribution\n",
    "\n",
    "    # add last contribution\n",
    "    if len(local_contributions) > 1:\n",
    "        euler_characteristic.append([filtration, current_characteristic])\n",
    "\n",
    "    return euler_characteristic"
   ]
  },
  {
   "cell_type": "code",
   "execution_count": null,
   "id": "15fda799",
   "metadata": {},
   "outputs": [],
   "source": [
    "list_of_ECC_contributions = [ [ (c[0][0], c[1]) for c in compute_RGB_contributions(img)] \n",
    "                             for img in tqdm(np_grayscale_images)] "
   ]
  },
  {
   "cell_type": "code",
   "execution_count": null,
   "id": "2435c546",
   "metadata": {},
   "outputs": [],
   "source": [
    "list_of_ECC = [euler_characteristic_list_from_all(contrib) for contrib in list_of_ECC_contributions]"
   ]
  },
  {
   "cell_type": "code",
   "execution_count": null,
   "id": "50ec8163",
   "metadata": {},
   "outputs": [],
   "source": [
    "list_of_ECC_contributions"
   ]
  },
  {
   "cell_type": "code",
   "execution_count": null,
   "id": "ab83ac43",
   "metadata": {},
   "outputs": [],
   "source": [
    "fig, axs = plt.subplots(1, NUMBER_OF_SAMPLES,\n",
    "                       figsize=(20, 5))\n",
    "\n",
    "for i in range(NUMBER_OF_SAMPLES):\n",
    "    plot_euler_curve(list_of_ECC[i], axs[i], with_lines=True)"
   ]
  },
  {
   "cell_type": "code",
   "execution_count": null,
   "id": "82ce4b91",
   "metadata": {},
   "outputs": [],
   "source": [
    "distance_matrix = np.zeros((NUMBER_OF_SAMPLES, NUMBER_OF_SAMPLES))\n",
    "\n",
    "for i in tqdm(range(len(list_of_ECC))):\n",
    "    for j in range(i+1, len(list_of_ECC)):\n",
    "        distance_matrix[i,j] = difference_ECC(list_of_ECC[i], list_of_ECC[j], max_f = 255)\n",
    "        distance_matrix[j,i] = difference_ECC(list_of_ECC[j], list_of_ECC[i], max_f = 255)"
   ]
  },
  {
   "cell_type": "code",
   "execution_count": null,
   "id": "8c4fc166",
   "metadata": {},
   "outputs": [],
   "source": [
    "plt.imshow(distance_matrix)\n",
    "plt.colorbar()"
   ]
  },
  {
   "cell_type": "code",
   "execution_count": null,
   "id": "dde3e9e4",
   "metadata": {},
   "outputs": [],
   "source": []
  }
 ],
 "metadata": {
  "kernelspec": {
   "display_name": "Python 3 (ipykernel)",
   "language": "python",
   "name": "python3"
  },
  "language_info": {
   "codemirror_mode": {
    "name": "ipython",
    "version": 3
   },
   "file_extension": ".py",
   "mimetype": "text/x-python",
   "name": "python",
   "nbconvert_exporter": "python",
   "pygments_lexer": "ipython3",
   "version": "3.8.10"
  }
 },
 "nbformat": 4,
 "nbformat_minor": 5
}
